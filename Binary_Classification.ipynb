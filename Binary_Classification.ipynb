{
 "cells": [
  {
   "cell_type": "code",
   "execution_count": 1,
   "metadata": {},
   "outputs": [],
   "source": [
    "import pandas as pd\n",
    "import numpy as np\n",
    "import pickle\n",
    "import csv\n",
    "from operator import itemgetter\n",
    "from sklearn.model_selection import train_test_split\n",
    "from sklearn.metrics import accuracy_score\n",
    "from sklearn.metrics import confusion_matrix\n",
    "from sklearn.tree import DecisionTreeClassifier\n",
    "from sklearn.ensemble import RandomForestClassifier\n",
    "from sklearn.ensemble import BaggingClassifier\n",
    "from sklearn.linear_model import Perceptron\n",
    "from sklearn.linear_model import LogisticRegression\n",
    "from sklearn.linear_model import Ridge\n",
    "from sklearn.linear_model import LinearRegression\n",
    "from sklearn.naive_bayes import BernoulliNB\n",
    "from sklearn.naive_bayes import GaussianNB\n",
    "\n",
    "def create_train_validation_test(df, genre):\n",
    "    # 4000 songs from genre\n",
    "    df['genre'] = df['genre'].apply(lambda x: x if x==genre else 'no')\n",
    "\n",
    "    df_genre = df.loc[df['genre'] == genre]\n",
    "\n",
    "    # 4000 songs from not genre\n",
    "    df_non_genre = df.loc[df['genre'] != genre].sample(n=4000)\n",
    "    \n",
    "    subset = df_genre.append(df_non_genre)\n",
    "    # Divide pop rock into train and test\n",
    "    train_genre, test_genre = train_test_split(df_genre, test_size=0.2)\n",
    "\n",
    "    # Divide non pop rock into train and test\n",
    "    train_non_genre, test_non_genre = train_test_split(df_non_genre, test_size = 0.2)\n",
    "\n",
    "    # Combine pop-rock and non-genre into train/test\n",
    "#     train = train_genre.append(train_non_genre)\n",
    "#     test = test_genre.append(test_non_genre)\n",
    "    train, test = train_test_split(subset, test_size=0.2)\n",
    "#     train, test = train_test_split(df, test_size=0.2)\n",
    "\n",
    "    train, validation = train_test_split(train, test_size=0.2)\n",
    "\n",
    "    # training, validation, and test data\n",
    "\n",
    "    X_train = train.drop(['genre', 'track_id'], axis = 1)\n",
    "    y_train = train[['genre']]\n",
    "\n",
    "    X_validation = validation.drop(['genre', 'track_id'], axis = 1)\n",
    "    y_validation = validation[['genre']]\n",
    "\n",
    "    X_test = test.drop(['genre','track_id'], axis = 1)\n",
    "    y_test = test[['genre']]\n",
    "\n",
    "    return X_train, list(y_train['genre']), X_validation, list(y_validation['genre']), X_test, list(y_test['genre'])"
   ]
  },
  {
   "cell_type": "code",
   "execution_count": 2,
   "metadata": {
    "collapsed": true
   },
   "outputs": [],
   "source": [
    "def evaluate(model, X_test, y_test):\n",
    "    pred = model.predict(X_test)\n",
    "    acc = confusion_matrix(y_true = y_test, y_pred = pred), accuracy_score(y_true = y_test, y_pred = pred)\n",
    "    return acc[0].ravel(), acc[1]"
   ]
  },
  {
   "cell_type": "code",
   "execution_count": 3,
   "metadata": {},
   "outputs": [],
   "source": [
    "def test_models(genre):\n",
    "    data = pd.read_csv('./records_4000.tsv', sep='\\t')\n",
    "    data['genre'] = data['genre'].str[:-1]\n",
    "    one_hot_key = pd.get_dummies(data['key'])\n",
    "    data = data.drop(['key'], axis=1)\n",
    "    newcols = list(data.columns)\n",
    "    data = pd.concat([data,one_hot_key],axis = 1)\n",
    "    for keyn in range(12):\n",
    "        newcols.append('key_'+str(keyn))\n",
    "    data.columns = newcols\n",
    "    data = data.fillna(0)\n",
    "\n",
    "    X_train, y_train, X_validation, y_validation, X_test, y_test = create_train_validation_test(data, genre)\n",
    "    models = []\n",
    "#     random_forest = RandomForestClassifier(n_estimators = 100)\n",
    "#     random_forest.fit(X_train, y_train)\n",
    "    models.append(LogisticRegression(penalty = 'l1'))\n",
    "    models[0].fit(X_train, y_train)\n",
    "#     tree_classifier = DecisionTreeClassifier(max_depth=6)\n",
    "#     tree_classifier.fit(X_train, y_train)\n",
    "\n",
    "#     logistic = LogisticRegression()\n",
    "#     logistic.fit(X_train, y_train)\n",
    "\n",
    "#     models = [tree_classifier, random_forest, logistic]\n",
    "#     modelnames = ['tree', 'forest','logistic']\n",
    "    results = []\n",
    "    scores = []\n",
    "    print(genre)\n",
    "#     data2 = pd.read_csv('./records_test.tsv', sep='\\t')\n",
    "#     data2['genre'] = data2['genre'].str[:-1]\n",
    "#     one_hot_key2 = pd.get_dummies(data2['key'])\n",
    "#     data2 = data2.drop(['key'], axis=1)\n",
    "#     newcols2 = list(data2.columns)\n",
    "#     data2 = pd.concat([data2,one_hot_key2],axis = 1)\n",
    "#     for keyn in range(12):\n",
    "#         newcols2.append('key_'+str(keyn))\n",
    "#     data2.columns = newcols2\n",
    "#     data2 = data2.fillna(0)\n",
    "#     data2['genre'] = data2['genre'].apply(lambda x: x if x==genre else 'no')\n",
    "#     X_test = data2.drop(['genre', 'track_id'], axis = 1)\n",
    "#     y_test = data2[['genre']]\n",
    "    for i in range(len(models)):\n",
    "        results.append(evaluate(models[i], X_test, y_test))\n",
    "        results.append(evaluate(models[i], X_train, y_train))\n",
    "#         scores.append((modelnames[i],results[-1][1]))\n",
    "    print([i[1] for i in results])\n",
    "    # scores = sorted(scores, key = itemgetter(0))\n",
    "    # print(scores[-1], scores[-1][-1]-scores[0][-1])\n",
    "#     print([i[0] for i in scores])\n",
    "#     print([i[1] for i in scores])\n",
    "        "
   ]
  },
  {
   "cell_type": "code",
   "execution_count": null,
   "metadata": {},
   "outputs": [],
   "source": [
    "# tn, fp, fn, tp"
   ]
  },
  {
   "cell_type": "code",
   "execution_count": null,
   "metadata": {},
   "outputs": [
    {
     "name": "stdout",
     "output_type": "stream",
     "text": [
      "Pop_Rock\n",
      "[0.72375, 0.75039062499999998]\n",
      "Electronic\n",
      "[0.74312500000000004, 0.73007812500000002]\n",
      "Rap\n",
      "[0.78625, 0.80449218749999996]\n",
      "Blues\n",
      "[0.66062500000000002, 0.65468749999999998]\n"
     ]
    }
   ],
   "source": [
    "genres = [\"Pop_Rock\",\"Electronic\",\"Rap\",\"Blues\",\"Country\",\"Jazz\",\"RnB\",\"Reggae\",\"Latin\",\"New Age\",\"International\",\"Folk\",\"Vocal\"]\n",
    "for i in genres:\n",
    "    test_models(i)"
   ]
  },
  {
   "cell_type": "code",
   "execution_count": null,
   "metadata": {},
   "outputs": [],
   "source": []
  },
  {
   "cell_type": "code",
   "execution_count": null,
   "metadata": {},
   "outputs": [],
   "source": []
  },
  {
   "cell_type": "code",
   "execution_count": null,
   "metadata": {},
   "outputs": [],
   "source": []
  },
  {
   "cell_type": "code",
   "execution_count": null,
   "metadata": {},
   "outputs": [],
   "source": []
  },
  {
   "cell_type": "code",
   "execution_count": null,
   "metadata": {},
   "outputs": [],
   "source": []
  },
  {
   "cell_type": "code",
   "execution_count": null,
   "metadata": {},
   "outputs": [],
   "source": []
  },
  {
   "cell_type": "code",
   "execution_count": null,
   "metadata": {},
   "outputs": [],
   "source": []
  },
  {
   "cell_type": "code",
   "execution_count": null,
   "metadata": {},
   "outputs": [],
   "source": []
  },
  {
   "cell_type": "code",
   "execution_count": null,
   "metadata": {
    "collapsed": true
   },
   "outputs": [],
   "source": []
  }
 ],
 "metadata": {
  "kernelspec": {
   "display_name": "Python 3",
   "language": "python",
   "name": "python3"
  },
  "language_info": {
   "codemirror_mode": {
    "name": "ipython",
    "version": 3
   },
   "file_extension": ".py",
   "mimetype": "text/x-python",
   "name": "python",
   "nbconvert_exporter": "python",
   "pygments_lexer": "ipython3",
   "version": "3.6.0"
  }
 },
 "nbformat": 4,
 "nbformat_minor": 2
}
