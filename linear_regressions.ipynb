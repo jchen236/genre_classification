{
 "cells": [
  {
   "cell_type": "code",
   "execution_count": 176,
   "metadata": {
    "collapsed": true
   },
   "outputs": [],
   "source": [
    "import pandas as pd\n",
    "import numpy as np\n",
    "import pickle\n",
    "import csv\n",
    "from sklearn.model_selection import train_test_split\n",
    "\n",
    "df = pd.read_csv('data/records_4000.tsv', sep='\\t', index_col = 1)\n",
    "df['genre'] = df['genre'].str[:-1]\n",
    "df=df.fillna(0)\n",
    "df=df.replace([np.inf, -np.inf], np.nan).dropna(axis=1)\n",
    "# Format of genre is \"Rap\\n\" with the return character\n",
    "def create_train_validation_test(df, genre):\n",
    "    # 4000 songs from genre\n",
    "    labels = list(set([label.strip() for label in y]))\n",
    "    otherlabels=list(set(labels)-set([genre]))\n",
    "     #df['genre'] = df['genre'].str[:].replace([genre], '1')\n",
    "    #df['genre'] = df['genre'].str[:].replace(otherlabels, '0')\n",
    "    df_poprock = df.loc[df['genre'] == genre]\n",
    "\n",
    "    # 4000 songs from not genre\n",
    "    df_non_poprock = df.loc[df['genre'] != genre].sample(n=4000)\n",
    "\n",
    "    # Divide pop rock into train and test\n",
    "    train_poprock, test_poprock = train_test_split(df_poprock, test_size=0.2)\n",
    "\n",
    "    # Divide non pop rock into train and test\n",
    "    train_non_poprock, test_non_poprock = train_test_split(df_non_poprock, test_size = 0.2)\n",
    "\n",
    "    # Combine pop-rock and non-poprock into train/test\n",
    "    train = train_poprock.append(train_non_poprock)\n",
    "    test = test_poprock.append(test_non_poprock)\n",
    "\n",
    "    train, validation = train_test_split(train, test_size=0.2)\n",
    "\n",
    "    # training, validation, and test data\n",
    "\n",
    "    X_train = train.drop(['genre'], axis = 1)\n",
    "    y_train = train[['genre']].replace([genre], '1').replace(otherlabels, '-1')\n",
    "\n",
    "    X_validation = validation.drop(['genre'], axis = 1)\n",
    "    y_validation = validation[['genre']].replace([genre], '1').replace(otherlabels, '-1')\n",
    "\n",
    "    X_test = test.drop(['genre'], axis = 1)\n",
    "    y_test = test[['genre']].replace([genre], '1').replace(otherlabels, '-1')\n",
    "\n",
    "    return X_train, y_train, X_validation, y_validation, X_test, y_test"
   ]
  },
  {
   "cell_type": "code",
   "execution_count": 177,
   "metadata": {
    "collapsed": true
   },
   "outputs": [],
   "source": [
    "y=df['genre']\n",
    "labels = list(set([label.strip() for label in y]))\n",
    "X_train, y_train, X_validation, y_validation, X_test, y_test=create_train_validation_test(df,'Rap')"
   ]
  },
  {
   "cell_type": "code",
   "execution_count": null,
   "metadata": {
    "collapsed": true
   },
   "outputs": [],
   "source": []
  },
  {
   "cell_type": "code",
   "execution_count": 178,
   "metadata": {
    "collapsed": true
   },
   "outputs": [],
   "source": [
    "from sklearn import datasets, linear_model\n",
    "from sklearn.metrics import mean_squared_error, r2_score"
   ]
  },
  {
   "cell_type": "code",
   "execution_count": 324,
   "metadata": {
    "collapsed": true
   },
   "outputs": [],
   "source": [
    "regr = linear_model.LinearRegression()\n",
    "\n",
    "x = pd.concat([X_train,X_test]) #returns a numpy array\n",
    "min_max_scaler = preprocessing.MinMaxScaler()\n",
    "min_max_scaler.fit(x)\n",
    "X_train =min_max_scaler.transform(X_train)\n",
    "X_test =min_max_scaler.transform(X_test)\n",
    "regr.fit(X_train, y_train)\n",
    "# Make predictions using the testing set\n",
    "pred = regr.predict(X_test)"
   ]
  },
  {
   "cell_type": "code",
   "execution_count": 325,
   "metadata": {
    "collapsed": true
   },
   "outputs": [],
   "source": [
    "def match(label,pred):\n",
    "    match=0\n",
    "    for i in range(0,len(label)):\n",
    "        if(label[i]*pred[i]>0):\n",
    "            match+=1;\n",
    "    return match*1.0/len(label)\n",
    "    #print \"accuracy: \"+str(match*1.0/len(label))"
   ]
  },
  {
   "cell_type": "code",
   "execution_count": 326,
   "metadata": {},
   "outputs": [
    {
     "data": {
      "text/plain": [
       "0.679375"
      ]
     },
     "execution_count": 326,
     "metadata": {},
     "output_type": "execute_result"
    }
   ],
   "source": [
    "\n",
    "y_test_list=[int(y[0]) for y in list(y_test.as_matrix())]\n",
    "pred_list=[p[0] for p in pred]\n",
    "match(y_test_list,pred_list)"
   ]
  },
  {
   "cell_type": "code",
   "execution_count": 327,
   "metadata": {},
   "outputs": [
    {
     "name": "stdout",
     "output_type": "stream",
     "text": [
      "accuracy for Reggae: 0.801875\n",
      "accuracy for Pop_Rock: 0.740625\n",
      "accuracy for Country: 0.731875\n",
      "accuracy for Jazz: 0.69625\n",
      "accuracy for Vocal: 0.7575\n",
      "accuracy for New Age: 0.77375\n",
      "accuracy for Latin: 0.65625\n",
      "accuracy for Rap: 0.784375\n",
      "accuracy for RnB: 0.63875\n",
      "accuracy for International: 0.5725\n",
      "accuracy for Blues: 0.63125\n",
      "accuracy for Electronic: 0.703125\n",
      "accuracy for Folk: 0.66625\n",
      "Avergae Accuracy: 0.704182692308\n"
     ]
    }
   ],
   "source": [
    "accus=[]\n",
    "coefs=np.zeros((13,28))\n",
    "count=0\n",
    "for labelname in labels:\n",
    "    y=df['genre']\n",
    "    labels = list(set([label.strip() for label in y]))\n",
    "    X_train, y_train, X_validation, y_validation, X_test, y_test=create_train_validation_test(df,labelname)\n",
    "    regr = linear_model.LinearRegression()\n",
    "    regr.fit(X_train, y_train)\n",
    "    pred = regr.predict(X_test)\n",
    "    y_test_list=[int(y[0]) for y in list(y_test.as_matrix())]\n",
    "    pred_list=[p[0] for p in pred]\n",
    "    accu=match(y_test_list,pred_list)\n",
    "    #print(\"Mean squared error: %.2f\"% mean_squared_error(y_test_list,pred_list))\n",
    "    print \"accuracy for \"+labelname+\": \"+str(accu)\n",
    "    accus+=[accu]\n",
    "    coefs[count]=regr.coef_\n",
    "    count+=1\n",
    "print \"Avergae Accuracy: \"+str(sum(accus)*1.0/len(accus))"
   ]
  },
  {
   "cell_type": "code",
   "execution_count": 310,
   "metadata": {},
   "outputs": [
    {
     "name": "stdout",
     "output_type": "stream",
     "text": [
      "accuracy for Reggae: 0.781875\n",
      "accuracy for Pop_Rock: 0.701875\n",
      "accuracy for Country: 0.701875\n",
      "accuracy for Jazz: 0.673125\n",
      "accuracy for Vocal: 0.7125\n",
      "accuracy for New Age: 0.773125\n",
      "accuracy for Latin: 0.6425\n",
      "accuracy for Rap: 0.766875\n",
      "accuracy for RnB: 0.645\n",
      "accuracy for International: 0.566875\n",
      "accuracy for Blues: 0.593125\n",
      "accuracy for Electronic: 0.68375\n",
      "accuracy for Folk: 0.65875\n",
      "Avergae Accuracy: 0.684711538462\n"
     ]
    }
   ],
   "source": [
    "accus=[]\n",
    "coefs=np.zeros((13,28))\n",
    "count=0\n",
    "for labelname in labels:\n",
    "    y=df['genre']\n",
    "    labels = list(set([label.strip() for label in y]))\n",
    "    X_train, y_train, X_validation, y_validation, X_test, y_test=create_train_validation_test(df,labelname)\n",
    "    regr = linear_model.HuberRegressor()\n",
    "    regr.fit(X_train, y_train.values.flatten())\n",
    "    pred = regr.predict(X_test)\n",
    "    y_test_list=[int(y[0]) for y in list(y_test.as_matrix())]\n",
    "    pred_list=list(pred)\n",
    "    accu=match(y_test_list,pred_list)\n",
    "    print \"accuracy for \"+labelname+\": \"+str(accu)\n",
    "    accus+=[accu]\n",
    "    coefs[count]=regr.coef_\n",
    "    count+=1\n",
    "print \"Avergae Accuracy: \"+str(sum(accus)*1.0/len(accus))"
   ]
  },
  {
   "cell_type": "code",
   "execution_count": 204,
   "metadata": {
    "collapsed": true
   },
   "outputs": [],
   "source": [
    "from sklearn.decomposition import PCA\n"
   ]
  },
  {
   "cell_type": "code",
   "execution_count": 221,
   "metadata": {},
   "outputs": [
    {
     "name": "stdout",
     "output_type": "stream",
     "text": [
      "accuracy for Reggae: 0.735\n",
      "accuracy for Pop_Rock: 0.641875\n",
      "accuracy for Country: 0.660625\n",
      "accuracy for Jazz: 0.64875\n",
      "accuracy for Vocal: 0.70125\n",
      "accuracy for New Age: 0.725\n",
      "accuracy for Latin: 0.6425\n",
      "accuracy for Rap: 0.7275\n",
      "accuracy for RnB: 0.594375\n",
      "accuracy for International: 0.554375\n",
      "accuracy for Blues: 0.565\n",
      "accuracy for Electronic: 0.6575\n",
      "accuracy for Folk: 0.64125\n",
      "Avergae Accuracy: 0.653461538462\n"
     ]
    }
   ],
   "source": [
    "accus=[]\n",
    "for labelname in labels:\n",
    "    y=df['genre']\n",
    "    labels = list(set([label.strip() for label in y]))\n",
    "    X_train, y_train, X_validation, y_validation, X_test, y_test=create_train_validation_test(df,labelname)\n",
    "    pca = PCA(n_components=10)\n",
    "    pca.fit(pd.concat([X_train,X_test]))\n",
    "    newX_train = pca.transform(X_train)\n",
    "    newX_test = pca.transform(X_test)\n",
    "    \n",
    "    regr = linear_model.LinearRegression()\n",
    "    regr.fit(newX_train, y_train)\n",
    "    pred = regr.predict(newX_test)\n",
    "    y_test_list=[int(y[0]) for y in list(y_test.as_matrix())]\n",
    "    pred_list=[p[0] for p in pred]\n",
    "    accu=match(y_test_list,pred_list)\n",
    "    accus+=[accu]\n",
    "    print \"accuracy for \"+labelname+\": \"+str(accu)\n",
    "print \"Avergae Accuracy: \"+str(sum(accus)*1.0/len(accus))"
   ]
  },
  {
   "cell_type": "code",
   "execution_count": 230,
   "metadata": {},
   "outputs": [
    {
     "data": {
      "text/plain": [
       "array([[  3.51310852e-04,   1.17641409e-02,   2.27108703e-01,\n",
       "          7.99521519e-03,   9.14736797e-02,   3.41933050e-01,\n",
       "          1.01169659e+00,   5.26338669e-03,  -3.85974865e-03,\n",
       "         -5.12532389e-02,  -9.35131661e-03,   8.18391320e-03,\n",
       "         -1.38996036e-01,  -2.23554996e-01,   2.72010018e-03,\n",
       "         -1.11721978e-02,  -2.14284796e-01,  -3.98016241e-02,\n",
       "          7.54676627e+00,  -6.82089034e+00,   6.26358547e-02,\n",
       "         -3.18260123e-02,  -2.32523928e-02,   2.30875207e-02,\n",
       "         -8.57922811e-01,   1.76932223e+00,   2.14968290e-01,\n",
       "          1.01436481e-01]])"
      ]
     },
     "execution_count": 230,
     "metadata": {},
     "output_type": "execute_result"
    }
   ],
   "source": [
    "numpy.zeros"
   ]
  },
  {
   "cell_type": "code",
   "execution_count": 231,
   "metadata": {},
   "outputs": [
    {
     "data": {
      "text/plain": [
       "(1, 28)"
      ]
     },
     "execution_count": 231,
     "metadata": {},
     "output_type": "execute_result"
    }
   ],
   "source": [
    "regr.coef_.shape"
   ]
  },
  {
   "cell_type": "code",
   "execution_count": 238,
   "metadata": {
    "collapsed": true
   },
   "outputs": [],
   "source": [
    "coefs=np.zeros((13,28))"
   ]
  },
  {
   "cell_type": "code",
   "execution_count": 241,
   "metadata": {},
   "outputs": [
    {
     "data": {
      "text/plain": [
       "array([[  2.46680586e-03,   4.66439122e-03,   5.02542265e-02,\n",
       "         -2.09334246e-02,  -1.31812037e-01,  -9.18913991e-02,\n",
       "         -1.47577458e-01,   9.52352299e-03,  -1.31821106e-03,\n",
       "          2.49212499e-02,  -1.03167228e-02,  -8.42444115e-04,\n",
       "          1.28407615e-01,  -1.95177509e-01,   3.38145114e-03,\n",
       "          6.66364086e-03,   2.54889633e-01,   1.31451551e-01,\n",
       "          9.87301477e+00,  -3.67783341e+00,  -1.05140994e-01,\n",
       "         -8.83271359e-02,   1.42104155e-02,   2.60074642e-02,\n",
       "          1.01111989e+00,  -3.59623854e-01,  -1.06644851e-01,\n",
       "          1.88151849e-01],\n",
       "       [  1.33665208e-03,  -2.48116158e-03,  -2.12279539e-01,\n",
       "          2.28659858e-03,  -1.60600581e-02,   2.19927119e-02,\n",
       "          6.29045875e-02,  -3.38207960e-03,   4.70676857e-03,\n",
       "         -2.62707122e-02,  -2.98032474e-03,   2.89563019e-03,\n",
       "         -1.45608225e-01,   2.58983906e-01,  -2.06154372e-03,\n",
       "         -4.32566120e-03,  -1.18212082e-01,  -3.66425547e-02,\n",
       "         -5.37743441e+00,   2.69632775e+00,   1.71700516e-01,\n",
       "          1.30549591e-01,  -6.89957934e-03,  -8.51179117e-03,\n",
       "          4.35009606e-01,   7.30617577e-01,   1.33908411e-01,\n",
       "         -2.34313999e-01],\n",
       "       [ -1.40258411e-04,   1.07531815e-02,   1.77453514e-01,\n",
       "          1.11138291e-02,  -1.66064017e-02,   4.09595628e-01,\n",
       "          8.56742384e-01,  -4.48616350e-03,  -8.83698734e-03,\n",
       "          7.15868396e-03,  -3.37629205e-03,   3.01838838e-03,\n",
       "          4.64044033e-02,  -7.07629216e-02,   3.77830007e-03,\n",
       "         -5.90945470e-03,  -2.00775082e-02,   8.52691212e-03,\n",
       "         -7.45658915e-01,  -2.38257742e-02,   5.30929856e-02,\n",
       "         -2.58888085e-02,  -4.30002613e-03,  -4.69322857e-03,\n",
       "         -5.66657760e-02,  -7.44425783e-01,  -4.85479881e-02,\n",
       "          7.37436453e-02],\n",
       "       [ -1.07985171e-03,  -4.50481737e-03,  -6.86933880e-02,\n",
       "         -5.72737508e-04,   1.68601025e-02,  -8.61041253e-02,\n",
       "         -4.15010808e-01,  -2.57457395e-02,  -1.71985004e-03,\n",
       "          6.05872512e-03,  -9.44116161e-03,  -2.87826202e-03,\n",
       "          1.20290488e-01,  -1.84233598e-01,  -1.35116679e-03,\n",
       "         -4.22362916e-04,  -2.47492517e-02,   4.56037874e-02,\n",
       "         -9.83472150e+00,   6.64595022e-01,  -2.83089172e-02,\n",
       "         -3.30822791e-02,   8.36957726e-03,  -9.08638163e-03,\n",
       "         -1.04733928e+00,   3.34315481e-01,  -8.15063968e-02,\n",
       "          1.45697035e-01],\n",
       "       [ -2.60418253e-03,  -2.91326856e-03,   2.45341827e-01,\n",
       "         -5.48492385e-03,   1.14763299e-01,   1.08049942e-02,\n",
       "         -6.56811650e-01,  -1.93364316e-02,   4.60451213e-03,\n",
       "          2.67551431e-02,   3.97956039e-03,   8.04567562e-03,\n",
       "          5.36066574e-02,  -1.01468089e-01,   1.36995065e-03,\n",
       "          3.50917330e-03,  -1.67230117e-01,  -1.60421970e-01,\n",
       "          1.15868931e+00,  -1.97278331e+00,   1.01373146e-02,\n",
       "          1.24265264e-01,  -4.04411187e-03,  -6.46732181e-03,\n",
       "         -1.38240748e+00,   2.15365166e-01,  -3.68798413e-02,\n",
       "          6.41598019e-02],\n",
       "       [  1.08227984e-03,  -3.15830773e-03,  -2.88078415e-01,\n",
       "          1.54109514e-02,  -5.81324512e-02,  -1.84450831e-01,\n",
       "          6.74002913e-01,   1.93880420e-02,  -8.39833195e-03,\n",
       "          8.22371718e-04,   1.09885669e-03,  -1.33808957e-02,\n",
       "         -8.34436309e-02,   1.65278583e-01,  -3.05838915e-03,\n",
       "         -6.28529259e-03,  -1.00080794e-01,   9.73469912e-02,\n",
       "         -1.96432205e+00,   6.52230161e-01,   1.07654210e-01,\n",
       "         -1.16280693e-01,   2.31671343e-03,  -1.14737182e-02,\n",
       "          9.66016918e-01,  -1.50723357e-01,   6.40724535e-02,\n",
       "         -1.23561877e-01],\n",
       "       [  5.80318728e-04,   7.82731975e-04,   4.92888418e-02,\n",
       "         -8.63482007e-03,  -5.09278732e-02,   1.76975570e-02,\n",
       "          1.68695302e-01,   1.28888732e-02,   1.10604431e-02,\n",
       "          1.67127112e-02,   1.90648269e-03,  -1.12639677e-03,\n",
       "          7.93408388e-02,  -4.21299848e-02,  -2.50395175e-04,\n",
       "         -5.50917541e-03,   3.59884362e-02,  -6.48330036e-02,\n",
       "          2.59295233e-01,  -7.85881351e-01,   4.40185472e-02,\n",
       "          1.04403245e-01,   3.04859516e-04,  -4.45027286e-03,\n",
       "          1.02223595e-01,   1.48766998e-01,  -8.15299538e-02,\n",
       "          4.17749901e-02],\n",
       "       [ -7.74978313e-04,   4.58263443e-04,   7.34907803e-02,\n",
       "         -1.70283008e-02,   1.66738232e-01,  -1.02823028e-01,\n",
       "         -6.73572566e-01,   2.02399403e-02,   9.73008624e-03,\n",
       "          7.53953047e-02,   3.74778964e-03,   2.95931885e-02,\n",
       "         -1.36704595e-01,   1.80697599e-01,  -9.76678509e-04,\n",
       "          1.07234238e-02,   2.06689602e-02,  -1.99704548e-02,\n",
       "          2.78195276e+00,  -5.33926257e-01,  -1.19193551e-01,\n",
       "         -8.90204157e-02,   1.53312105e-04,   9.68065022e-03,\n",
       "         -3.77175850e-01,   1.14335624e+00,   1.42840307e-01,\n",
       "         -2.24744053e-01],\n",
       "       [ -2.75398866e-04,  -3.56668699e-03,  -5.45388599e-02,\n",
       "         -1.01526814e-02,   4.95822781e-02,  -9.34526525e-02,\n",
       "         -1.87515440e-01,  -1.82059876e-02,  -4.23246828e-03,\n",
       "          2.21715141e-03,  -1.22681453e-02,   8.52212209e-03,\n",
       "          7.72654930e-02,  -1.11320971e-01,   1.42001850e-04,\n",
       "          1.49410540e-03,  -9.52553702e-02,   2.37671156e-02,\n",
       "          9.78885354e-01,  -1.02200764e+00,   7.01725502e-02,\n",
       "          1.23034990e-01,   4.25410554e-03,   2.38914643e-02,\n",
       "          8.59907937e-01,   3.04650469e-01,  -8.41808530e-02,\n",
       "          1.51968881e-01],\n",
       "       [ -3.92835561e-04,   3.61317475e-04,  -1.42853954e-02,\n",
       "         -1.32989053e-04,  -7.68509878e-02,  -4.90468463e-02,\n",
       "          1.58464149e-01,   1.05445710e-02,   4.08595834e-03,\n",
       "          4.60481509e-03,  -2.52109984e-03,   9.27012724e-04,\n",
       "         -3.77500892e-02,   6.82990841e-02,  -1.66170613e-03,\n",
       "         -5.33963425e-03,   5.24283218e-02,  -5.18528573e-03,\n",
       "          7.85174378e-01,  -8.68094830e-01,   3.37243675e-02,\n",
       "          3.02519977e-02,   2.15104058e-03,  -5.09669684e-03,\n",
       "         -3.41809188e-01,   2.75391517e-01,   7.46963655e-02,\n",
       "         -1.33385526e-01],\n",
       "       [ -1.95845631e-03,  -1.42572279e-03,   2.29519872e-01,\n",
       "         -1.14007120e-02,  -1.54288962e-01,   1.55586931e-01,\n",
       "         -4.65993542e-01,  -2.44946501e-02,   6.52753275e-03,\n",
       "         -9.53730557e-02,  -4.11111695e-04,   1.07977124e-02,\n",
       "         -7.17937266e-02,   1.39431934e-01,   3.37692303e-03,\n",
       "         -6.05131352e-03,   2.22820788e-01,   9.30119651e-02,\n",
       "          1.67760365e+00,  -1.85366574e+00,  -7.63907855e-02,\n",
       "         -9.17214515e-02,  -4.64381649e-03,   1.35198709e-02,\n",
       "         -1.02827264e+00,   1.00523180e+00,   1.69336502e-01,\n",
       "         -3.06878127e-01],\n",
       "       [  6.29179986e-04,  -1.08168844e-03,  -1.74535148e-01,\n",
       "         -2.14283628e-03,  -6.36214791e-02,  -1.35932377e-01,\n",
       "         -3.33969199e-01,   5.38846153e-03,   4.43424938e-03,\n",
       "          5.12344625e-02,  -2.12089341e-03,   6.04837678e-03,\n",
       "         -4.31234077e-03,  -6.88738353e-04,  -1.90504143e-03,\n",
       "          6.41786670e-03,   7.67814181e-02,   4.21614774e-02,\n",
       "         -3.76882520e+00,   2.34913670e+00,  -6.41294080e-03,\n",
       "         -3.57927715e-03,   4.08718345e-03,  -4.79497665e-03,\n",
       "          5.43724888e-01,   1.75994421e+00,  -5.81646464e-02,\n",
       "          9.83107600e-02],\n",
       "       [  5.12064292e-04,  -1.06523680e-03,   6.78495945e-02,\n",
       "          7.57352110e-03,   3.89872710e-02,   1.92321537e-01,\n",
       "          6.28240995e-01,   8.05331758e-03,  -3.46093939e-03,\n",
       "         -2.82740699e-02,   1.50690735e-03,   1.61885484e-03,\n",
       "          5.30842788e-02,  -7.11152322e-02,   3.14517328e-04,\n",
       "         -9.98209749e-03,  -9.27973225e-02,  -1.55257688e-03,\n",
       "          3.86369254e+00,  -3.76709007e+00,   2.85549177e-02,\n",
       "         -4.84433883e-03,  -7.83961941e-03,   1.69938240e-02,\n",
       "         -4.10383784e-01,   7.15230890e-01,  -2.55114559e-02,\n",
       "          7.37209847e-03]])"
      ]
     },
     "execution_count": 241,
     "metadata": {},
     "output_type": "execute_result"
    }
   ],
   "source": [
    "coefs"
   ]
  },
  {
   "cell_type": "code",
   "execution_count": 329,
   "metadata": {},
   "outputs": [
    {
     "data": {
      "image/png": "[encoded data removed]",
      "text/plain": [
       "<matplotlib.figure.Figure at 0x11172a650>"
      ]
     },
     "metadata": {},
     "output_type": "display_data"
    }
   ],
   "source": [
    "#objects = ('Reggae','Pop_Rock','Country','Jazz','Vocal','New Age','Latin','Rap','RnB','International','Blues','Electronic','Folk')\n",
    "def plotcoef(coef,labelname):\n",
    "    objects=list(df.columns.values)[1:]\n",
    "    y_pos = np.arange(len(objects))\n",
    "    performance = list(coef)\n",
    "\n",
    "    plt.bar(y_pos, performance, align='center', alpha=0.5,label=labelname)\n",
    "    plt.legend(loc='lower left')\n",
    "    plt.xticks(y_pos, objects,rotation='vertical')\n",
    "    plt.ylabel('Coefficient Values')\n",
    "    \n",
    "plt.title(\"Features Coefficent Comparison for \"+labels[1]+\" and \"+labels[11])\n",
    "plotcoef(coefs[5],labels[5])\n",
    "plotcoef(coefs[2],labels[2])\n",
    "plt.show()"
   ]
  },
  {
   "cell_type": "code",
   "execution_count": 275,
   "metadata": {},
   "outputs": [
    {
     "data": {
      "text/plain": [
       "[0.0010822798417954723,\n",
       " -0.0031583077261973873,\n",
       " -0.28807841495570596,\n",
       " 0.015410951394854211,\n",
       " -0.058132451189152654,\n",
       " -0.18445083122641939,\n",
       " 0.67400291296051351,\n",
       " 0.01938804204963205,\n",
       " -0.00839833194943276,\n",
       " 0.00082237171830988175,\n",
       " 0.0010988566905606742,\n",
       " -0.013380895730299077,\n",
       " -0.08344363092766735,\n",
       " 0.16527858313802413,\n",
       " -0.0030583891457569489,\n",
       " -0.0062852925941378653,\n",
       " -0.10008079416993951,\n",
       " 0.097346991196789801,\n",
       " -1.9643220515829762,\n",
       " 0.65223016096513198,\n",
       " 0.10765420983878379,\n",
       " -0.11628069250339348,\n",
       " 0.002316713425601781,\n",
       " -0.011473718170137781,\n",
       " 0.96601691790307709,\n",
       " -0.15072335730592407,\n",
       " 0.064072453469129473,\n",
       " -0.12356187708225405]"
      ]
     },
     "execution_count": 275,
     "metadata": {},
     "output_type": "execute_result"
    }
   ],
   "source": [
    "list(coefs[5])"
   ]
  },
  {
   "cell_type": "code",
   "execution_count": null,
   "metadata": {
    "collapsed": true
   },
   "outputs": [],
   "source": []
  }
 ],
 "metadata": {
  "kernelspec": {
   "display_name": "Python 2",
   "language": "python",
   "name": "python2"
  },
  "language_info": {
   "codemirror_mode": {
    "name": "ipython",
    "version": 2
   },
   "file_extension": ".py",
   "mimetype": "text/x-python",
   "name": "python",
   "nbconvert_exporter": "python",
   "pygments_lexer": "ipython2",
   "version": "2.7.13"
  }
 },
 "nbformat": 4,
 "nbformat_minor": 2
}
